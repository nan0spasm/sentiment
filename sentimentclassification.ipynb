{
 "cells": [
  {
   "cell_type": "markdown",
   "id": "bc6f1cba-a52a-498a-bdd7-29de402621cb",
   "metadata": {},
   "source": [
    "# Sentiment Analysis"
   ]
  },
  {
   "cell_type": "markdown",
   "id": "4fffd609-fa83-4cd8-bbd1-4e4969ee2d94",
   "metadata": {},
   "source": [
    "## Imports"
   ]
  },
  {
   "cell_type": "code",
   "execution_count": 130,
   "id": "6759023c-d5b6-457b-a7c1-afdcf72d002a",
   "metadata": {},
   "outputs": [],
   "source": [
    "import pandas as pd\n",
    "## Three models to be used\n",
    "from sklearn.ensemble import AdaBoostClassifier\n",
    "from sklearn.tree import DecisionTreeClassifier\n",
    "from sklearn.ensemble import BaggingClassifier\n",
    "from sklearn.svm import SVC\n",
    "from sklearn.ensemble import RandomForestClassifier\n",
    "\n",
    "from sklearn import metrics \n",
    "\n",
    "## import data set\n",
    "data = pd.read_csv(\"Tweets.csv\")"
   ]
  },
  {
   "cell_type": "markdown",
   "id": "1132610f-cce4-4a25-85c8-cfdbf24ecaa2",
   "metadata": {},
   "source": [
    "## EDA"
   ]
  },
  {
   "cell_type": "code",
   "execution_count": 110,
   "id": "8a999715-caa8-41c0-8111-3a5552739c59",
   "metadata": {
    "tags": []
   },
   "outputs": [
    {
     "data": {
      "text/plain": [
       "Index(['tweet_id', 'airline_sentiment', 'airline_sentiment_confidence',\n",
       "       'negativereason', 'negativereason_confidence', 'airline',\n",
       "       'airline_sentiment_gold', 'name', 'negativereason_gold',\n",
       "       'retweet_count', 'text', 'tweet_coord', 'tweet_created',\n",
       "       'tweet_location', 'user_timezone'],\n",
       "      dtype='object')"
      ]
     },
     "execution_count": 110,
     "metadata": {},
     "output_type": "execute_result"
    }
   ],
   "source": [
    "data.columns"
   ]
  },
  {
   "cell_type": "code",
   "execution_count": 111,
   "id": "7f5152c5-bb33-4a3c-b6ca-00e749c5d4a0",
   "metadata": {
    "tags": []
   },
   "outputs": [
    {
     "name": "stdout",
     "output_type": "stream",
     "text": [
      "<class 'pandas.core.frame.DataFrame'>\n",
      "RangeIndex: 14640 entries, 0 to 14639\n",
      "Data columns (total 15 columns):\n",
      " #   Column                        Non-Null Count  Dtype  \n",
      "---  ------                        --------------  -----  \n",
      " 0   tweet_id                      14640 non-null  int64  \n",
      " 1   airline_sentiment             14640 non-null  object \n",
      " 2   airline_sentiment_confidence  14640 non-null  float64\n",
      " 3   negativereason                9178 non-null   object \n",
      " 4   negativereason_confidence     10522 non-null  float64\n",
      " 5   airline                       14640 non-null  object \n",
      " 6   airline_sentiment_gold        40 non-null     object \n",
      " 7   name                          14640 non-null  object \n",
      " 8   negativereason_gold           32 non-null     object \n",
      " 9   retweet_count                 14640 non-null  int64  \n",
      " 10  text                          14640 non-null  object \n",
      " 11  tweet_coord                   1019 non-null   object \n",
      " 12  tweet_created                 14640 non-null  object \n",
      " 13  tweet_location                9907 non-null   object \n",
      " 14  user_timezone                 9820 non-null   object \n",
      "dtypes: float64(2), int64(2), object(11)\n",
      "memory usage: 1.7+ MB\n"
     ]
    }
   ],
   "source": [
    "data.info()"
   ]
  },
  {
   "cell_type": "code",
   "execution_count": 112,
   "id": "c5d085d1-c3fe-495d-b15a-a8359c2403a3",
   "metadata": {
    "tags": []
   },
   "outputs": [
    {
     "data": {
      "text/plain": [
       "tweet_id                        14485\n",
       "airline_sentiment                   3\n",
       "airline_sentiment_confidence     1023\n",
       "negativereason                     10\n",
       "negativereason_confidence        1410\n",
       "airline                             6\n",
       "airline_sentiment_gold              3\n",
       "name                             7701\n",
       "negativereason_gold                13\n",
       "retweet_count                      18\n",
       "text                            14427\n",
       "tweet_coord                       832\n",
       "tweet_created                   14247\n",
       "tweet_location                   3081\n",
       "user_timezone                      85\n",
       "dtype: int64"
      ]
     },
     "execution_count": 112,
     "metadata": {},
     "output_type": "execute_result"
    }
   ],
   "source": [
    "data.nunique()"
   ]
  },
  {
   "cell_type": "markdown",
   "id": "d0652e32-3b7f-45ab-a513-5333af784673",
   "metadata": {},
   "source": [
    "## Cleaning Data"
   ]
  },
  {
   "cell_type": "code",
   "execution_count": 113,
   "id": "821636d5-d40a-42a8-a3f4-6f6382721449",
   "metadata": {
    "tags": []
   },
   "outputs": [],
   "source": [
    "import nltk;\n",
    "from nltk.corpus import stopwords;\n",
    "from nltk import word_tokenize;\n",
    "import string;\n",
    "from nltk.stem.snowball import SnowballStemmer;"
   ]
  },
  {
   "cell_type": "code",
   "execution_count": 114,
   "id": "882d90b7-8eb1-4725-938f-0254395a68ce",
   "metadata": {
    "tags": []
   },
   "outputs": [],
   "source": [
    "def cleanText(text) : \n",
    "    stemmer = SnowballStemmer(language = \"english\")\n",
    "    # tokenize\n",
    "    tokens = nltk.word_tokenize(text.lower())\n",
    "    #stem\n",
    "    stemmed_words = []\n",
    "    for word in tokens:\n",
    "        \n",
    "        stemmedWord = stemmer.stem(word)\n",
    "        stemmed_words.append(stemmedWord)\n",
    "    # filter characters    \n",
    "    stop = set(stopwords.words('english') + list(string.punctuation))\n",
    "    filtered_words = [i for i in stemmed_words if i not in stop]\n",
    "    filtered_words = [i for i in filtered_words if not i.isnumeric()]\n",
    "    filtered_words = [i for i in filtered_words if i.isalpha()]\n",
    "    \n",
    "    return \" \".join(filtered_words)"
   ]
  },
  {
   "cell_type": "code",
   "execution_count": 115,
   "id": "5ca084bc-02e8-4211-a4e7-6c09a57537e2",
   "metadata": {
    "tags": []
   },
   "outputs": [
    {
     "name": "stderr",
     "output_type": "stream",
     "text": [
      "/Users/dmcbride/opt/anaconda3/lib/python3.8/site-packages/sklearn/utils/validation.py:63: DataConversionWarning: A column-vector y was passed when a 1d array was expected. Please change the shape of y to (n_samples, ), for example using ravel().\n",
      "  return f(*args, **kwargs)\n"
     ]
    }
   ],
   "source": [
    "## Making encoded labels \n",
    "from sklearn.preprocessing import LabelEncoder\n",
    "\n",
    "airline_sentiment = pd.DataFrame(data[\"airline_sentiment\"])\n",
    "le = LabelEncoder()\n",
    "le.fit(airline_sentiment)\n",
    "labels = le.transform(airline_sentiment)\n",
    "\n",
    "# le.inverse_transform(labels)"
   ]
  },
  {
   "cell_type": "code",
   "execution_count": 116,
   "id": "0b3234bb-f7a1-4596-85f7-12a79587cdba",
   "metadata": {},
   "outputs": [],
   "source": [
    "data[\"text\"] = data[\"text\"].apply(lambda x: cleanText(x));"
   ]
  },
  {
   "cell_type": "code",
   "execution_count": 119,
   "id": "d4877501-a0a5-411a-b0b2-faaf5a12c66b",
   "metadata": {},
   "outputs": [],
   "source": [
    "x = data[\"text\"]\n",
    "y = labels"
   ]
  },
  {
   "cell_type": "code",
   "execution_count": 120,
   "id": "093846cc-8253-409b-a8fe-783e70715332",
   "metadata": {},
   "outputs": [],
   "source": [
    "from sklearn.feature_extraction.text import TfidfVectorizer"
   ]
  },
  {
   "cell_type": "markdown",
   "id": "b45bb746-b4d5-4f24-b70f-0be8a99d1675",
   "metadata": {},
   "source": [
    "## Train test split"
   ]
  },
  {
   "cell_type": "code",
   "execution_count": 125,
   "id": "da46e9d4-e2b0-4a31-9293-d2efa0d1e2b4",
   "metadata": {},
   "outputs": [],
   "source": [
    "from sklearn.model_selection import train_test_split\n",
    "\n",
    "## converting strings to integers\n",
    "vectorizer = TfidfVectorizer()\n",
    "vectorized = vectorizer.fit_transform(x)\n",
    "\n",
    "X_train, X_test, y_train, y_test = train_test_split(vectorized, y, test_size=0.7)"
   ]
  },
  {
   "cell_type": "markdown",
   "id": "7119ae95-eb64-49d4-a555-461b5e7fea67",
   "metadata": {},
   "source": [
    "# Training models"
   ]
  },
  {
   "cell_type": "markdown",
   "id": "bb2cfba3-c81d-49c3-a15f-b8501cb698e3",
   "metadata": {},
   "source": [
    "## AdaBoostClassifier"
   ]
  },
  {
   "cell_type": "code",
   "execution_count": 127,
   "id": "99f74fe1-0b6a-4867-9152-1563b3699301",
   "metadata": {},
   "outputs": [
    {
     "data": {
      "text/plain": [
       "AdaBoostClassifier(base_estimator=DecisionTreeClassifier(max_depth=4),\n",
       "                   n_estimators=200)"
      ]
     },
     "execution_count": 127,
     "metadata": {},
     "output_type": "execute_result"
    }
   ],
   "source": [
    "classifier = AdaBoostClassifier(\n",
    "    DecisionTreeClassifier(max_depth=4),\n",
    "    n_estimators=200\n",
    ")\n",
    "classifier.fit(X_train, y_train)"
   ]
  },
  {
   "cell_type": "code",
   "execution_count": 128,
   "id": "5aeafc62-9672-4fcb-8447-416157b9b0aa",
   "metadata": {},
   "outputs": [],
   "source": [
    "output = classifier.predict(X_test)"
   ]
  },
  {
   "cell_type": "code",
   "execution_count": 129,
   "id": "76bda304-5d5f-4af6-974d-5b03318118e3",
   "metadata": {},
   "outputs": [
    {
     "data": {
      "text/plain": [
       "0.6813036690085871"
      ]
     },
     "execution_count": 129,
     "metadata": {},
     "output_type": "execute_result"
    }
   ],
   "source": [
    "\n",
    "metrics.accuracy_score(output,  y_test)"
   ]
  },
  {
   "cell_type": "markdown",
   "id": "59605d7d-08a4-4566-a12f-db673c7f8bde",
   "metadata": {},
   "source": [
    "## BaggingClassifier"
   ]
  },
  {
   "cell_type": "code",
   "execution_count": 132,
   "id": "04bf972d-b27f-4fa7-a113-6400382d31f0",
   "metadata": {},
   "outputs": [
    {
     "data": {
      "text/plain": [
       "BaggingClassifier(base_estimator=SVC())"
      ]
     },
     "execution_count": 132,
     "metadata": {},
     "output_type": "execute_result"
    }
   ],
   "source": [
    "classifier = BaggingClassifier(\n",
    "     base_estimator=SVC(),\n",
    "     n_estimators=10,\n",
    ")\n",
    "classifier.fit(X_train, y_train)"
   ]
  },
  {
   "cell_type": "code",
   "execution_count": 133,
   "id": "f388b39a-3782-4f77-9af6-7e765c7a3f50",
   "metadata": {},
   "outputs": [],
   "source": [
    "output = classifier.predict(X_test)"
   ]
  },
  {
   "cell_type": "code",
   "execution_count": 134,
   "id": "11bbb8ae-eb7f-4b00-910c-5cac426a9efb",
   "metadata": {},
   "outputs": [
    {
     "data": {
      "text/plain": [
       "0.7481459797033567"
      ]
     },
     "execution_count": 134,
     "metadata": {},
     "output_type": "execute_result"
    }
   ],
   "source": [
    "metrics.accuracy_score(output,  y_test)"
   ]
  },
  {
   "cell_type": "markdown",
   "id": "1230d056-161c-431c-86e2-08c0c167e0b8",
   "metadata": {},
   "source": [
    "## RandomForestClassifier"
   ]
  },
  {
   "cell_type": "code",
   "execution_count": 135,
   "id": "4b1dbd92-7100-4d3f-8fde-4313a7d7a161",
   "metadata": {},
   "outputs": [
    {
     "data": {
      "text/plain": [
       "RandomForestClassifier(max_depth=2, random_state=0)"
      ]
     },
     "execution_count": 135,
     "metadata": {},
     "output_type": "execute_result"
    }
   ],
   "source": [
    "classifier = RandomForestClassifier(\n",
    "    max_depth=2, \n",
    "    random_state=0\n",
    ")\n",
    "classifier.fit(X_train, y_train)"
   ]
  },
  {
   "cell_type": "code",
   "execution_count": 136,
   "id": "f68d05c7-dcf3-47ee-aef8-8040d023ade1",
   "metadata": {},
   "outputs": [],
   "source": [
    "output = classifier.predict(X_test)"
   ]
  },
  {
   "cell_type": "code",
   "execution_count": 137,
   "id": "3b749044-5e24-4d98-986b-ef9e0b1a4a37",
   "metadata": {},
   "outputs": [
    {
     "data": {
      "text/plain": [
       "0.6291959406713505"
      ]
     },
     "execution_count": 137,
     "metadata": {},
     "output_type": "execute_result"
    }
   ],
   "source": [
    "metrics.accuracy_score(output,  y_test)"
   ]
  },
  {
   "cell_type": "markdown",
   "id": "c78422ba-62ae-4073-b226-3f22283e2255",
   "metadata": {},
   "source": [
    "# Conclusion"
   ]
  },
  {
   "cell_type": "markdown",
   "id": "c992fc6d-df8e-45a0-9296-d1e0c5d87c33",
   "metadata": {},
   "source": [
    "The most accurate classifier I tried was the bagging classifier."
   ]
  }
 ],
 "metadata": {
  "kernelspec": {
   "display_name": "Python 3",
   "language": "python",
   "name": "python3"
  },
  "language_info": {
   "codemirror_mode": {
    "name": "ipython",
    "version": 3
   },
   "file_extension": ".py",
   "mimetype": "text/x-python",
   "name": "python",
   "nbconvert_exporter": "python",
   "pygments_lexer": "ipython3",
   "version": "3.8.8"
  }
 },
 "nbformat": 4,
 "nbformat_minor": 5
}
